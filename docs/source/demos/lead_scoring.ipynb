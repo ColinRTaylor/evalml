{
 "cells": [
  {
   "cell_type": "markdown",
   "metadata": {},
   "source": [
    "# Building a Lead Scoring Model with EvalML\n",
    "\n",
    "In this demo, we will build an optimized lead scoring model using EvalML. To optimize the pipeline, we will set up an objective function to maximize the revenue generated with true positives while taking into account the cost of false positives. At the end of this demo, we also show you how introducing the right objective during the training is significantly better than using a generic machine learning metric like AUC."
   ]
  },
  {
   "cell_type": "code",
   "execution_count": 1,
   "metadata": {},
   "outputs": [],
   "source": [
    "import evalml\n",
    "from evalml import AutoMLSearch\n",
    "from evalml.objectives import LeadScoring"
   ]
  },
  {
   "cell_type": "markdown",
   "metadata": {},
   "source": [
    "## Configure LeadScoring \n",
    "\n",
    "To optimize the pipelines toward the specific business needs of this model, you can set your own assumptions for how much value is gained through true positives and the cost associated with false positives. These parameters are\n",
    "\n",
    "* `true_positive` - dollar amount to be gained with a successful lead\n",
    "* `false_positive` - dollar amount to be lost with an unsuccessful lead\n",
    "\n",
    "Using these parameters, EvalML builds a pileline that will maximize the amount of revenue per lead generated."
   ]
  },
  {
   "cell_type": "code",
   "execution_count": 2,
   "metadata": {},
   "outputs": [],
   "source": [
    "lead_scoring_objective = LeadScoring(\n",
    "    true_positives=50,\n",
    "    false_positives=-5\n",
    ")"
   ]
  },
  {
   "cell_type": "markdown",
   "metadata": {},
   "source": [
    "## Dataset\n",
    "\n",
    "We will be utilizing a dataset detailing a customer's job, country, state, zip, online action, the dollar amount of that action and whether they were a successful lead."
   ]
  },
  {
   "cell_type": "code",
   "execution_count": 3,
   "metadata": {},
   "outputs": [
    {
     "data": {
      "text/html": [
       "<div>\n",
       "<style scoped>\n",
       "    .dataframe tbody tr th:only-of-type {\n",
       "        vertical-align: middle;\n",
       "    }\n",
       "\n",
       "    .dataframe tbody tr th {\n",
       "        vertical-align: top;\n",
       "    }\n",
       "\n",
       "    .dataframe thead th {\n",
       "        text-align: right;\n",
       "    }\n",
       "</style>\n",
       "<table border=\"1\" class=\"dataframe\">\n",
       "  <thead>\n",
       "    <tr style=\"text-align: right;\">\n",
       "      <th></th>\n",
       "      <th>job</th>\n",
       "      <th>state</th>\n",
       "      <th>zip</th>\n",
       "      <th>action</th>\n",
       "      <th>amount</th>\n",
       "    </tr>\n",
       "  </thead>\n",
       "  <tbody>\n",
       "    <tr>\n",
       "      <th>0</th>\n",
       "      <td>Engineer, mining</td>\n",
       "      <td>NY</td>\n",
       "      <td>60091.0</td>\n",
       "      <td>page_view</td>\n",
       "      <td>NaN</td>\n",
       "    </tr>\n",
       "    <tr>\n",
       "      <th>1</th>\n",
       "      <td>Psychologist, forensic</td>\n",
       "      <td>CA</td>\n",
       "      <td>NaN</td>\n",
       "      <td>purchase</td>\n",
       "      <td>135.23</td>\n",
       "    </tr>\n",
       "    <tr>\n",
       "      <th>2</th>\n",
       "      <td>Psychologist, forensic</td>\n",
       "      <td>CA</td>\n",
       "      <td>NaN</td>\n",
       "      <td>page_view</td>\n",
       "      <td>NaN</td>\n",
       "    </tr>\n",
       "    <tr>\n",
       "      <th>3</th>\n",
       "      <td>Air cabin crew</td>\n",
       "      <td>NaN</td>\n",
       "      <td>60091.0</td>\n",
       "      <td>download</td>\n",
       "      <td>NaN</td>\n",
       "    </tr>\n",
       "    <tr>\n",
       "      <th>4</th>\n",
       "      <td>Air cabin crew</td>\n",
       "      <td>NaN</td>\n",
       "      <td>60091.0</td>\n",
       "      <td>page_view</td>\n",
       "      <td>NaN</td>\n",
       "    </tr>\n",
       "  </tbody>\n",
       "</table>\n",
       "</div>"
      ],
      "text/plain": [
       "                      job state      zip     action  amount\n",
       "0        Engineer, mining    NY  60091.0  page_view     NaN\n",
       "1  Psychologist, forensic    CA      NaN   purchase  135.23\n",
       "2  Psychologist, forensic    CA      NaN  page_view     NaN\n",
       "3          Air cabin crew   NaN  60091.0   download     NaN\n",
       "4          Air cabin crew   NaN  60091.0  page_view     NaN"
      ]
     },
     "metadata": {},
     "output_type": "display_data"
    }
   ],
   "source": [
    "from urllib.request import urlopen\n",
    "import pandas as pd\n",
    "import woodwork as ww\n",
    "customers_data = urlopen('https://featurelabs-static.s3.amazonaws.com/lead_scoring_ml_apps/customers.csv')\n",
    "interactions_data = urlopen('https://featurelabs-static.s3.amazonaws.com/lead_scoring_ml_apps/interactions.csv')\n",
    "leads_data = urlopen('https://featurelabs-static.s3.amazonaws.com/lead_scoring_ml_apps/previous_leads.csv')\n",
    "customers = pd.read_csv(customers_data)\n",
    "interactions = pd.read_csv(interactions_data)\n",
    "leads = pd.read_csv(leads_data)\n",
    "\n",
    "X = customers.merge(interactions, on='customer_id').merge(leads, on='customer_id')\n",
    "y = X['label']\n",
    "X = X.drop(['customer_id', 'date_registered', 'birthday','phone', 'email',\n",
    "            'owner', 'company', 'id', 'time_x',\n",
    "            'session', 'referrer', 'time_y', 'label', 'country'], axis=1)\n",
    "display(X.head())"
   ]
  },
  {
   "cell_type": "markdown",
   "metadata": {},
   "source": [
    "We will convert our data into Woodwork data structures. Doing so enables us to have more control over the types passed to and inferred by AutoML."
   ]
  },
  {
   "cell_type": "code",
   "execution_count": 4,
   "metadata": {},
   "outputs": [
    {
     "data": {
      "text/html": [
       "<table border=\"1\" class=\"dataframe\">\n",
       "  <thead>\n",
       "    <tr style=\"text-align: right;\">\n",
       "      <th></th>\n",
       "      <th>Physical Type</th>\n",
       "      <th>Logical Type</th>\n",
       "      <th>Semantic Tag(s)</th>\n",
       "    </tr>\n",
       "    <tr>\n",
       "      <th>Column</th>\n",
       "      <th></th>\n",
       "      <th></th>\n",
       "      <th></th>\n",
       "    </tr>\n",
       "  </thead>\n",
       "  <tbody>\n",
       "    <tr>\n",
       "      <th>job</th>\n",
       "      <td>category</td>\n",
       "      <td>Categorical</td>\n",
       "      <td>['category']</td>\n",
       "    </tr>\n",
       "    <tr>\n",
       "      <th>state</th>\n",
       "      <td>category</td>\n",
       "      <td>Categorical</td>\n",
       "      <td>['category']</td>\n",
       "    </tr>\n",
       "    <tr>\n",
       "      <th>zip</th>\n",
       "      <td>float64</td>\n",
       "      <td>Double</td>\n",
       "      <td>['numeric']</td>\n",
       "    </tr>\n",
       "    <tr>\n",
       "      <th>action</th>\n",
       "      <td>category</td>\n",
       "      <td>Categorical</td>\n",
       "      <td>['category']</td>\n",
       "    </tr>\n",
       "    <tr>\n",
       "      <th>amount</th>\n",
       "      <td>float64</td>\n",
       "      <td>Double</td>\n",
       "      <td>['numeric']</td>\n",
       "    </tr>\n",
       "  </tbody>\n",
       "</table>"
      ],
      "text/plain": [
       "       Physical Type Logical Type Semantic Tag(s)\n",
       "Column                                           \n",
       "job         category  Categorical    ['category']\n",
       "state       category  Categorical    ['category']\n",
       "zip          float64       Double     ['numeric']\n",
       "action      category  Categorical    ['category']\n",
       "amount       float64       Double     ['numeric']"
      ]
     },
     "execution_count": 4,
     "metadata": {},
     "output_type": "execute_result"
    }
   ],
   "source": [
    "X.ww.init(semantic_tags={'job': 'category'}, logical_types={'job': 'Categorical'})\n",
    "y = ww.init_series(y)\n",
    "X.ww"
   ]
  },
  {
   "cell_type": "markdown",
   "metadata": {},
   "source": [
    "## Search for the best pipeline"
   ]
  },
  {
   "cell_type": "markdown",
   "metadata": {},
   "source": [
    "In order to validate the results of the pipeline creation and optimization process, we will save some of our data as a holdout set."
   ]
  },
  {
   "cell_type": "markdown",
   "metadata": {},
   "source": [
    "EvalML natively supports one-hot encoding and imputation so the above `NaN` and categorical values will be taken care of."
   ]
  },
  {
   "cell_type": "code",
   "execution_count": 5,
   "metadata": {},
   "outputs": [
    {
     "data": {
      "text/html": [
       "<table border=\"1\" class=\"dataframe\">\n",
       "  <thead>\n",
       "    <tr style=\"text-align: right;\">\n",
       "      <th></th>\n",
       "      <th>Physical Type</th>\n",
       "      <th>Logical Type</th>\n",
       "      <th>Semantic Tag(s)</th>\n",
       "    </tr>\n",
       "    <tr>\n",
       "      <th>Column</th>\n",
       "      <th></th>\n",
       "      <th></th>\n",
       "      <th></th>\n",
       "    </tr>\n",
       "  </thead>\n",
       "  <tbody>\n",
       "    <tr>\n",
       "      <th>job</th>\n",
       "      <td>category</td>\n",
       "      <td>Categorical</td>\n",
       "      <td>['category']</td>\n",
       "    </tr>\n",
       "    <tr>\n",
       "      <th>state</th>\n",
       "      <td>category</td>\n",
       "      <td>Categorical</td>\n",
       "      <td>['category']</td>\n",
       "    </tr>\n",
       "    <tr>\n",
       "      <th>zip</th>\n",
       "      <td>float64</td>\n",
       "      <td>Double</td>\n",
       "      <td>['numeric']</td>\n",
       "    </tr>\n",
       "    <tr>\n",
       "      <th>action</th>\n",
       "      <td>category</td>\n",
       "      <td>Categorical</td>\n",
       "      <td>['category']</td>\n",
       "    </tr>\n",
       "    <tr>\n",
       "      <th>amount</th>\n",
       "      <td>float64</td>\n",
       "      <td>Double</td>\n",
       "      <td>['numeric']</td>\n",
       "    </tr>\n",
       "  </tbody>\n",
       "</table>"
      ],
      "text/plain": [
       "       Physical Type Logical Type Semantic Tag(s)\n",
       "Column                                           \n",
       "job         category  Categorical    ['category']\n",
       "state       category  Categorical    ['category']\n",
       "zip          float64       Double     ['numeric']\n",
       "action      category  Categorical    ['category']\n",
       "amount       float64       Double     ['numeric']"
      ]
     },
     "execution_count": 5,
     "metadata": {},
     "output_type": "execute_result"
    }
   ],
   "source": [
    "X_train, X_holdout, y_train, y_holdout = evalml.preprocessing.split_data(X, y, problem_type='binary', test_size=0.2, random_seed=0)\n",
    "\n",
    "X.ww"
   ]
  },
  {
   "cell_type": "markdown",
   "metadata": {},
   "source": [
    "Because the lead scoring labels are binary, we will use set the problem type to \"binary\". When we call `.search()`, the search for the best pipeline will begin. "
   ]
  },
  {
   "cell_type": "code",
   "execution_count": 6,
   "metadata": {},
   "outputs": [
    {
     "name": "stdout",
     "output_type": "stream",
     "text": [
      "Generating pipelines to search over...\n"
     ]
    },
    {
     "name": "stderr",
     "output_type": "stream",
     "text": [
      "DEBUG:evalml.automl.automl_algorithm.iterative_algorithm.verbose:allowed_estimators set to ['Elastic Net Classifier', 'CatBoost Classifier', 'Random Forest Classifier', 'Logistic Regression Classifier']\n",
      "DEBUG:evalml.automl.automl_algorithm.iterative_algorithm.verbose:allowed_pipelines set to ['Elastic Net Classifier w/ Label Encoder + Imputer + One Hot Encoder + Oversampler + Standard Scaler', 'Logistic Regression Classifier w/ Label Encoder + Imputer + One Hot Encoder + Oversampler + Standard Scaler', 'CatBoost Classifier w/ Label Encoder + Imputer + Oversampler', 'Random Forest Classifier w/ Label Encoder + Imputer + One Hot Encoder + Oversampler']\n",
      "DEBUG:evalml.automl.automl_algorithm.iterative_algorithm.verbose:allowed_model_families set to ['catboost', 'random_forest', 'linear_model']\n"
     ]
    },
    {
     "name": "stdout",
     "output_type": "stream",
     "text": [
      "4 pipelines ready for search.\n"
     ]
    },
    {
     "name": "stderr",
     "output_type": "stream",
     "text": [
      "INFO:evalml.automl.automl_algorithm.iterative_algorithm.verbose:4 pipelines ready for search.\n"
     ]
    },
    {
     "name": "stdout",
     "output_type": "stream",
     "text": [
      "\n",
      "*****************************\n"
     ]
    },
    {
     "name": "stderr",
     "output_type": "stream",
     "text": [
      "INFO:evalml.automl.automl_search.verbose:\n",
      "*****************************\n"
     ]
    },
    {
     "name": "stdout",
     "output_type": "stream",
     "text": [
      "* Beginning pipeline search *\n"
     ]
    },
    {
     "name": "stderr",
     "output_type": "stream",
     "text": [
      "INFO:evalml.automl.automl_search.verbose:* Beginning pipeline search *\n"
     ]
    },
    {
     "name": "stdout",
     "output_type": "stream",
     "text": [
      "*****************************\n"
     ]
    },
    {
     "name": "stderr",
     "output_type": "stream",
     "text": [
      "INFO:evalml.automl.automl_search.verbose:*****************************\n"
     ]
    },
    {
     "name": "stdout",
     "output_type": "stream",
     "text": [
      "\n"
     ]
    },
    {
     "name": "stderr",
     "output_type": "stream",
     "text": [
      "INFO:evalml.automl.automl_search.verbose:\n"
     ]
    },
    {
     "name": "stdout",
     "output_type": "stream",
     "text": [
      "Optimizing for Lead Scoring. \n"
     ]
    },
    {
     "name": "stderr",
     "output_type": "stream",
     "text": [
      "INFO:evalml.automl.automl_search.verbose:Optimizing for Lead Scoring. \n"
     ]
    },
    {
     "name": "stdout",
     "output_type": "stream",
     "text": [
      "Greater score is better.\n",
      "\n"
     ]
    },
    {
     "name": "stderr",
     "output_type": "stream",
     "text": [
      "INFO:evalml.automl.automl_search.verbose:Greater score is better.\n",
      "\n"
     ]
    },
    {
     "name": "stdout",
     "output_type": "stream",
     "text": [
      "Using SequentialEngine to train and score pipelines.\n"
     ]
    },
    {
     "name": "stderr",
     "output_type": "stream",
     "text": [
      "INFO:evalml.automl.automl_search.verbose:Using SequentialEngine to train and score pipelines.\n"
     ]
    },
    {
     "name": "stdout",
     "output_type": "stream",
     "text": [
      "Searching up to 1 batches for a total of 5 pipelines. \n"
     ]
    },
    {
     "name": "stderr",
     "output_type": "stream",
     "text": [
      "INFO:evalml.automl.automl_search.verbose:Searching up to 1 batches for a total of 5 pipelines. \n"
     ]
    },
    {
     "name": "stdout",
     "output_type": "stream",
     "text": [
      "Allowed model families: linear_model, linear_model, catboost, random_forest\n",
      "\n"
     ]
    },
    {
     "name": "stderr",
     "output_type": "stream",
     "text": [
      "INFO:evalml.automl.automl_search.verbose:Allowed model families: linear_model, linear_model, catboost, random_forest\n",
      "\n"
     ]
    },
    {
     "data": {
      "application/vnd.jupyter.widget-view+json": {
       "model_id": "aad7b35a64e542a787037e7906e02240",
       "version_major": 2,
       "version_minor": 0
      },
      "text/plain": [
       "FigureWidget({\n",
       "    'data': [{'mode': 'lines+markers',\n",
       "              'name': 'Best Score',\n",
       "              'type'…"
      ]
     },
     "metadata": {},
     "output_type": "display_data"
    },
    {
     "name": "stdout",
     "output_type": "stream",
     "text": [
      "Evaluating Baseline Pipeline: Mode Baseline Binary Classification Pipeline\n"
     ]
    },
    {
     "name": "stderr",
     "output_type": "stream",
     "text": [
      "INFO:evalml.automl.automl_search.verbose:Evaluating Baseline Pipeline: Mode Baseline Binary Classification Pipeline\n"
     ]
    },
    {
     "name": "stdout",
     "output_type": "stream",
     "text": [
      "Mode Baseline Binary Classification Pipeline:\n"
     ]
    },
    {
     "name": "stderr",
     "output_type": "stream",
     "text": [
      "INFO:evalml.automl.automl_search.verbose:Mode Baseline Binary Classification Pipeline:\n"
     ]
    },
    {
     "name": "stdout",
     "output_type": "stream",
     "text": [
      "\tStarting cross validation\n"
     ]
    },
    {
     "name": "stderr",
     "output_type": "stream",
     "text": [
      "INFO:evalml.automl.automl_search.verbose:\tStarting cross validation\n",
      "DEBUG:evalml.automl.automl_search.verbose:\t\tTraining and scoring on fold 0\n",
      "DEBUG:evalml.automl.automl_search.verbose:\t\t\tFold 0: starting training\n",
      "DEBUG:evalml.automl.automl_search.verbose:\t\t\tFold 0: finished training\n",
      "DEBUG:evalml.automl.automl_search.verbose:\t\t\tFold 0: Optimal threshold found (0.135)\n",
      "DEBUG:evalml.automl.automl_search.verbose:\t\t\tFold 0: Scoring trained pipeline\n",
      "DEBUG:evalml.automl.automl_search.verbose:\t\t\tFold 0: Lead Scoring score: 0.000\n",
      "DEBUG:evalml.automl.automl_search.verbose:\t\tTraining and scoring on fold 1\n",
      "DEBUG:evalml.automl.automl_search.verbose:\t\t\tFold 1: starting training\n",
      "DEBUG:evalml.automl.automl_search.verbose:\t\t\tFold 1: finished training\n",
      "DEBUG:evalml.automl.automl_search.verbose:\t\t\tFold 1: Optimal threshold found (0.135)\n",
      "DEBUG:evalml.automl.automl_search.verbose:\t\t\tFold 1: Scoring trained pipeline\n",
      "DEBUG:evalml.automl.automl_search.verbose:\t\t\tFold 1: Lead Scoring score: 0.000\n",
      "DEBUG:evalml.automl.automl_search.verbose:\t\tTraining and scoring on fold 2\n",
      "DEBUG:evalml.automl.automl_search.verbose:\t\t\tFold 2: starting training\n",
      "DEBUG:evalml.automl.automl_search.verbose:\t\t\tFold 2: finished training\n",
      "DEBUG:evalml.automl.automl_search.verbose:\t\t\tFold 2: Optimal threshold found (0.135)\n",
      "DEBUG:evalml.automl.automl_search.verbose:\t\t\tFold 2: Scoring trained pipeline\n",
      "DEBUG:evalml.automl.automl_search.verbose:\t\t\tFold 2: Lead Scoring score: 0.000\n"
     ]
    },
    {
     "name": "stdout",
     "output_type": "stream",
     "text": [
      "\tFinished cross validation - mean Lead Scoring: 0.000\n"
     ]
    },
    {
     "name": "stderr",
     "output_type": "stream",
     "text": [
      "INFO:evalml.automl.automl_search.verbose:\tFinished cross validation - mean Lead Scoring: 0.000\n"
     ]
    },
    {
     "name": "stdout",
     "output_type": "stream",
     "text": [
      "\n",
      "*****************************\n"
     ]
    },
    {
     "name": "stderr",
     "output_type": "stream",
     "text": [
      "INFO:evalml.automl.automl_search.verbose:\n",
      "*****************************\n"
     ]
    },
    {
     "name": "stdout",
     "output_type": "stream",
     "text": [
      "* Evaluating Batch Number 1 *\n"
     ]
    },
    {
     "name": "stderr",
     "output_type": "stream",
     "text": [
      "INFO:evalml.automl.automl_search.verbose:* Evaluating Batch Number 1 *\n"
     ]
    },
    {
     "name": "stdout",
     "output_type": "stream",
     "text": [
      "*****************************\n"
     ]
    },
    {
     "name": "stderr",
     "output_type": "stream",
     "text": [
      "INFO:evalml.automl.automl_search.verbose:*****************************\n"
     ]
    },
    {
     "name": "stdout",
     "output_type": "stream",
     "text": [
      "\n"
     ]
    },
    {
     "name": "stderr",
     "output_type": "stream",
     "text": [
      "INFO:evalml.automl.automl_search.verbose:\n"
     ]
    },
    {
     "name": "stdout",
     "output_type": "stream",
     "text": [
      "Elastic Net Classifier w/ Label Encoder + Imputer + One Hot Encoder + Oversampler + Standard Scaler:\n"
     ]
    },
    {
     "name": "stderr",
     "output_type": "stream",
     "text": [
      "INFO:evalml.automl.automl_search.verbose:Elastic Net Classifier w/ Label Encoder + Imputer + One Hot Encoder + Oversampler + Standard Scaler:\n"
     ]
    },
    {
     "name": "stdout",
     "output_type": "stream",
     "text": [
      "\tStarting cross validation\n"
     ]
    },
    {
     "name": "stderr",
     "output_type": "stream",
     "text": [
      "INFO:evalml.automl.automl_search.verbose:\tStarting cross validation\n",
      "DEBUG:evalml.automl.automl_search.verbose:\t\tTraining and scoring on fold 0\n",
      "DEBUG:evalml.automl.automl_search.verbose:\t\t\tFold 0: starting training\n",
      "DEBUG:evalml.automl.automl_search.verbose:\t\t\tFold 0: finished training\n",
      "DEBUG:evalml.automl.automl_search.verbose:\t\t\tFold 0: Optimal threshold found (0.344)\n",
      "DEBUG:evalml.automl.automl_search.verbose:\t\t\tFold 0: Scoring trained pipeline\n",
      "DEBUG:evalml.automl.automl_search.verbose:\t\t\tFold 0: Lead Scoring score: 0.097\n",
      "DEBUG:evalml.automl.automl_search.verbose:\t\tTraining and scoring on fold 1\n",
      "DEBUG:evalml.automl.automl_search.verbose:\t\t\tFold 1: starting training\n",
      "DEBUG:evalml.automl.automl_search.verbose:\t\t\tFold 1: finished training\n",
      "DEBUG:evalml.automl.automl_search.verbose:\t\t\tFold 1: Optimal threshold found (0.650)\n",
      "DEBUG:evalml.automl.automl_search.verbose:\t\t\tFold 1: Scoring trained pipeline\n",
      "DEBUG:evalml.automl.automl_search.verbose:\t\t\tFold 1: Lead Scoring score: 0.026\n",
      "DEBUG:evalml.automl.automl_search.verbose:\t\tTraining and scoring on fold 2\n",
      "DEBUG:evalml.automl.automl_search.verbose:\t\t\tFold 2: starting training\n",
      "DEBUG:evalml.automl.automl_search.verbose:\t\t\tFold 2: finished training\n",
      "DEBUG:evalml.automl.automl_search.verbose:\t\t\tFold 2: Optimal threshold found (0.363)\n",
      "DEBUG:evalml.automl.automl_search.verbose:\t\t\tFold 2: Scoring trained pipeline\n",
      "DEBUG:evalml.automl.automl_search.verbose:\t\t\tFold 2: Lead Scoring score: 0.271\n"
     ]
    },
    {
     "name": "stdout",
     "output_type": "stream",
     "text": [
      "\tFinished cross validation - mean Lead Scoring: 0.131\n"
     ]
    },
    {
     "name": "stderr",
     "output_type": "stream",
     "text": [
      "INFO:evalml.automl.automl_search.verbose:\tFinished cross validation - mean Lead Scoring: 0.131\n"
     ]
    },
    {
     "name": "stdout",
     "output_type": "stream",
     "text": [
      "Logistic Regression Classifier w/ Label Encoder + Imputer + One Hot Encoder + Oversampler + Standard Scaler:\n"
     ]
    },
    {
     "name": "stderr",
     "output_type": "stream",
     "text": [
      "INFO:evalml.automl.automl_search.verbose:Logistic Regression Classifier w/ Label Encoder + Imputer + One Hot Encoder + Oversampler + Standard Scaler:\n"
     ]
    },
    {
     "name": "stdout",
     "output_type": "stream",
     "text": [
      "\tStarting cross validation\n"
     ]
    },
    {
     "name": "stderr",
     "output_type": "stream",
     "text": [
      "INFO:evalml.automl.automl_search.verbose:\tStarting cross validation\n",
      "DEBUG:evalml.automl.automl_search.verbose:\t\tTraining and scoring on fold 0\n",
      "DEBUG:evalml.automl.automl_search.verbose:\t\t\tFold 0: starting training\n",
      "DEBUG:evalml.automl.automl_search.verbose:\t\t\tFold 0: finished training\n",
      "DEBUG:evalml.automl.automl_search.verbose:\t\t\tFold 0: Optimal threshold found (0.349)\n",
      "DEBUG:evalml.automl.automl_search.verbose:\t\t\tFold 0: Scoring trained pipeline\n",
      "DEBUG:evalml.automl.automl_search.verbose:\t\t\tFold 0: Lead Scoring score: 0.100\n",
      "DEBUG:evalml.automl.automl_search.verbose:\t\tTraining and scoring on fold 1\n",
      "DEBUG:evalml.automl.automl_search.verbose:\t\t\tFold 1: starting training\n",
      "DEBUG:evalml.automl.automl_search.verbose:\t\t\tFold 1: finished training\n",
      "DEBUG:evalml.automl.automl_search.verbose:\t\t\tFold 1: Optimal threshold found (0.650)\n",
      "DEBUG:evalml.automl.automl_search.verbose:\t\t\tFold 1: Scoring trained pipeline\n",
      "DEBUG:evalml.automl.automl_search.verbose:\t\t\tFold 1: Lead Scoring score: 0.026\n",
      "DEBUG:evalml.automl.automl_search.verbose:\t\tTraining and scoring on fold 2\n",
      "DEBUG:evalml.automl.automl_search.verbose:\t\t\tFold 2: starting training\n",
      "DEBUG:evalml.automl.automl_search.verbose:\t\t\tFold 2: finished training\n",
      "DEBUG:evalml.automl.automl_search.verbose:\t\t\tFold 2: Optimal threshold found (0.363)\n",
      "DEBUG:evalml.automl.automl_search.verbose:\t\t\tFold 2: Scoring trained pipeline\n",
      "DEBUG:evalml.automl.automl_search.verbose:\t\t\tFold 2: Lead Scoring score: 0.271\n"
     ]
    },
    {
     "name": "stdout",
     "output_type": "stream",
     "text": [
      "\tFinished cross validation - mean Lead Scoring: 0.132\n"
     ]
    },
    {
     "name": "stderr",
     "output_type": "stream",
     "text": [
      "INFO:evalml.automl.automl_search.verbose:\tFinished cross validation - mean Lead Scoring: 0.132\n"
     ]
    },
    {
     "name": "stdout",
     "output_type": "stream",
     "text": [
      "CatBoost Classifier w/ Label Encoder + Imputer + Oversampler:\n"
     ]
    },
    {
     "name": "stderr",
     "output_type": "stream",
     "text": [
      "INFO:evalml.automl.automl_search.verbose:CatBoost Classifier w/ Label Encoder + Imputer + Oversampler:\n"
     ]
    },
    {
     "name": "stdout",
     "output_type": "stream",
     "text": [
      "\tStarting cross validation\n"
     ]
    },
    {
     "name": "stderr",
     "output_type": "stream",
     "text": [
      "INFO:evalml.automl.automl_search.verbose:\tStarting cross validation\n",
      "DEBUG:evalml.automl.automl_search.verbose:\t\tTraining and scoring on fold 0\n",
      "DEBUG:evalml.automl.automl_search.verbose:\t\t\tFold 0: starting training\n",
      "DEBUG:evalml.automl.automl_search.verbose:\t\t\tFold 0: finished training\n",
      "DEBUG:evalml.automl.automl_search.verbose:\t\t\tFold 0: Optimal threshold found (0.433)\n",
      "DEBUG:evalml.automl.automl_search.verbose:\t\t\tFold 0: Scoring trained pipeline\n",
      "DEBUG:evalml.automl.automl_search.verbose:\t\t\tFold 0: Lead Scoring score: 1.581\n",
      "DEBUG:evalml.automl.automl_search.verbose:\t\tTraining and scoring on fold 1\n",
      "DEBUG:evalml.automl.automl_search.verbose:\t\t\tFold 1: starting training\n",
      "DEBUG:evalml.automl.automl_search.verbose:\t\t\tFold 1: finished training\n",
      "DEBUG:evalml.automl.automl_search.verbose:\t\t\tFold 1: Optimal threshold found (0.469)\n",
      "DEBUG:evalml.automl.automl_search.verbose:\t\t\tFold 1: Scoring trained pipeline\n",
      "DEBUG:evalml.automl.automl_search.verbose:\t\t\tFold 1: Lead Scoring score: 1.645\n",
      "DEBUG:evalml.automl.automl_search.verbose:\t\tTraining and scoring on fold 2\n",
      "DEBUG:evalml.automl.automl_search.verbose:\t\t\tFold 2: starting training\n",
      "DEBUG:evalml.automl.automl_search.verbose:\t\t\tFold 2: finished training\n",
      "DEBUG:evalml.automl.automl_search.verbose:\t\t\tFold 2: Optimal threshold found (0.404)\n",
      "DEBUG:evalml.automl.automl_search.verbose:\t\t\tFold 2: Scoring trained pipeline\n",
      "DEBUG:evalml.automl.automl_search.verbose:\t\t\tFold 2: Lead Scoring score: 1.430\n"
     ]
    },
    {
     "name": "stdout",
     "output_type": "stream",
     "text": [
      "\tFinished cross validation - mean Lead Scoring: 1.552\n"
     ]
    },
    {
     "name": "stderr",
     "output_type": "stream",
     "text": [
      "INFO:evalml.automl.automl_search.verbose:\tFinished cross validation - mean Lead Scoring: 1.552\n"
     ]
    },
    {
     "name": "stdout",
     "output_type": "stream",
     "text": [
      "Random Forest Classifier w/ Label Encoder + Imputer + One Hot Encoder + Oversampler:\n"
     ]
    },
    {
     "name": "stderr",
     "output_type": "stream",
     "text": [
      "INFO:evalml.automl.automl_search.verbose:Random Forest Classifier w/ Label Encoder + Imputer + One Hot Encoder + Oversampler:\n"
     ]
    },
    {
     "name": "stdout",
     "output_type": "stream",
     "text": [
      "\tStarting cross validation\n"
     ]
    },
    {
     "name": "stderr",
     "output_type": "stream",
     "text": [
      "INFO:evalml.automl.automl_search.verbose:\tStarting cross validation\n",
      "DEBUG:evalml.automl.automl_search.verbose:\t\tTraining and scoring on fold 0\n",
      "DEBUG:evalml.automl.automl_search.verbose:\t\t\tFold 0: starting training\n",
      "DEBUG:evalml.automl.automl_search.verbose:\t\t\tFold 0: finished training\n",
      "DEBUG:evalml.automl.automl_search.verbose:\t\t\tFold 0: Optimal threshold found (0.494)\n",
      "DEBUG:evalml.automl.automl_search.verbose:\t\t\tFold 0: Scoring trained pipeline\n",
      "DEBUG:evalml.automl.automl_search.verbose:\t\t\tFold 0: Lead Scoring score: 0.181\n",
      "DEBUG:evalml.automl.automl_search.verbose:\t\tTraining and scoring on fold 1\n",
      "DEBUG:evalml.automl.automl_search.verbose:\t\t\tFold 1: starting training\n",
      "DEBUG:evalml.automl.automl_search.verbose:\t\t\tFold 1: finished training\n",
      "DEBUG:evalml.automl.automl_search.verbose:\t\t\tFold 1: Optimal threshold found (0.903)\n",
      "DEBUG:evalml.automl.automl_search.verbose:\t\t\tFold 1: Scoring trained pipeline\n",
      "DEBUG:evalml.automl.automl_search.verbose:\t\t\tFold 1: Lead Scoring score: 0.000\n",
      "DEBUG:evalml.automl.automl_search.verbose:\t\tTraining and scoring on fold 2\n",
      "DEBUG:evalml.automl.automl_search.verbose:\t\t\tFold 2: starting training\n",
      "DEBUG:evalml.automl.automl_search.verbose:\t\t\tFold 2: finished training\n",
      "DEBUG:evalml.automl.automl_search.verbose:\t\t\tFold 2: Optimal threshold found (0.255)\n",
      "DEBUG:evalml.automl.automl_search.verbose:\t\t\tFold 2: Scoring trained pipeline\n",
      "DEBUG:evalml.automl.automl_search.verbose:\t\t\tFold 2: Lead Scoring score: 0.242\n"
     ]
    },
    {
     "name": "stdout",
     "output_type": "stream",
     "text": [
      "\tFinished cross validation - mean Lead Scoring: 0.141\n"
     ]
    },
    {
     "name": "stderr",
     "output_type": "stream",
     "text": [
      "INFO:evalml.automl.automl_search.verbose:\tFinished cross validation - mean Lead Scoring: 0.141\n"
     ]
    },
    {
     "name": "stdout",
     "output_type": "stream",
     "text": [
      "\n",
      "Search finished after 00:14            \n"
     ]
    },
    {
     "name": "stderr",
     "output_type": "stream",
     "text": [
      "INFO:evalml.automl.automl_search.verbose:\n",
      "Search finished after 00:14            \n"
     ]
    },
    {
     "name": "stdout",
     "output_type": "stream",
     "text": [
      "Best pipeline: CatBoost Classifier w/ Label Encoder + Imputer + Oversampler\n"
     ]
    },
    {
     "name": "stderr",
     "output_type": "stream",
     "text": [
      "INFO:evalml.automl.automl_search.verbose:Best pipeline: CatBoost Classifier w/ Label Encoder + Imputer + Oversampler\n"
     ]
    },
    {
     "name": "stdout",
     "output_type": "stream",
     "text": [
      "Best pipeline Lead Scoring: 1.551920\n"
     ]
    },
    {
     "name": "stderr",
     "output_type": "stream",
     "text": [
      "INFO:evalml.automl.automl_search.verbose:Best pipeline Lead Scoring: 1.551920\n"
     ]
    }
   ],
   "source": [
    "automl = AutoMLSearch(X_train=X_train, y_train=y_train,\n",
    "                      problem_type='binary',\n",
    "                      objective=lead_scoring_objective,\n",
    "                      additional_objectives=['auc'],\n",
    "                      allowed_model_families=[\"catboost\", \"random_forest\", \"linear_model\"],\n",
    "                      max_batches=1,\n",
    "                      verbose=True)\n",
    "\n",
    "automl.search()"
   ]
  },
  {
   "cell_type": "markdown",
   "metadata": {},
   "source": [
    "### View rankings and select pipeline\n",
    "\n",
    "Once the fitting process is done, we can see all of the pipelines that were searched, ranked by their score on the lead scoring objective we defined."
   ]
  },
  {
   "cell_type": "code",
   "execution_count": 7,
   "metadata": {},
   "outputs": [
    {
     "data": {
      "text/html": [
       "<div>\n",
       "<style scoped>\n",
       "    .dataframe tbody tr th:only-of-type {\n",
       "        vertical-align: middle;\n",
       "    }\n",
       "\n",
       "    .dataframe tbody tr th {\n",
       "        vertical-align: top;\n",
       "    }\n",
       "\n",
       "    .dataframe thead th {\n",
       "        text-align: right;\n",
       "    }\n",
       "</style>\n",
       "<table border=\"1\" class=\"dataframe\">\n",
       "  <thead>\n",
       "    <tr style=\"text-align: right;\">\n",
       "      <th></th>\n",
       "      <th>id</th>\n",
       "      <th>pipeline_name</th>\n",
       "      <th>search_order</th>\n",
       "      <th>mean_cv_score</th>\n",
       "      <th>standard_deviation_cv_score</th>\n",
       "      <th>validation_score</th>\n",
       "      <th>percent_better_than_baseline</th>\n",
       "      <th>high_variance_cv</th>\n",
       "      <th>parameters</th>\n",
       "    </tr>\n",
       "  </thead>\n",
       "  <tbody>\n",
       "    <tr>\n",
       "      <th>0</th>\n",
       "      <td>3</td>\n",
       "      <td>CatBoost Classifier w/ Label Encoder + Imputer...</td>\n",
       "      <td>3</td>\n",
       "      <td>1.551920</td>\n",
       "      <td>0.110441</td>\n",
       "      <td>1.551920</td>\n",
       "      <td>inf</td>\n",
       "      <td>False</td>\n",
       "      <td>{'Label Encoder': {'positive_label': None}, 'I...</td>\n",
       "    </tr>\n",
       "    <tr>\n",
       "      <th>1</th>\n",
       "      <td>4</td>\n",
       "      <td>Random Forest Classifier w/ Label Encoder + Im...</td>\n",
       "      <td>4</td>\n",
       "      <td>0.140912</td>\n",
       "      <td>0.125842</td>\n",
       "      <td>0.140912</td>\n",
       "      <td>inf</td>\n",
       "      <td>False</td>\n",
       "      <td>{'Label Encoder': {'positive_label': None}, 'I...</td>\n",
       "    </tr>\n",
       "    <tr>\n",
       "      <th>2</th>\n",
       "      <td>2</td>\n",
       "      <td>Logistic Regression Classifier w/ Label Encode...</td>\n",
       "      <td>2</td>\n",
       "      <td>0.132316</td>\n",
       "      <td>0.125820</td>\n",
       "      <td>0.132316</td>\n",
       "      <td>inf</td>\n",
       "      <td>False</td>\n",
       "      <td>{'Label Encoder': {'positive_label': None}, 'I...</td>\n",
       "    </tr>\n",
       "    <tr>\n",
       "      <th>3</th>\n",
       "      <td>1</td>\n",
       "      <td>Elastic Net Classifier w/ Label Encoder + Impu...</td>\n",
       "      <td>1</td>\n",
       "      <td>0.131241</td>\n",
       "      <td>0.126248</td>\n",
       "      <td>0.131241</td>\n",
       "      <td>inf</td>\n",
       "      <td>False</td>\n",
       "      <td>{'Label Encoder': {'positive_label': None}, 'I...</td>\n",
       "    </tr>\n",
       "    <tr>\n",
       "      <th>4</th>\n",
       "      <td>0</td>\n",
       "      <td>Mode Baseline Binary Classification Pipeline</td>\n",
       "      <td>0</td>\n",
       "      <td>0.000000</td>\n",
       "      <td>0.000000</td>\n",
       "      <td>0.000000</td>\n",
       "      <td>0.0</td>\n",
       "      <td>False</td>\n",
       "      <td>{'Label Encoder': {'positive_label': None}, 'B...</td>\n",
       "    </tr>\n",
       "  </tbody>\n",
       "</table>\n",
       "</div>"
      ],
      "text/plain": [
       "   id                                      pipeline_name  search_order  \\\n",
       "0   3  CatBoost Classifier w/ Label Encoder + Imputer...             3   \n",
       "1   4  Random Forest Classifier w/ Label Encoder + Im...             4   \n",
       "2   2  Logistic Regression Classifier w/ Label Encode...             2   \n",
       "3   1  Elastic Net Classifier w/ Label Encoder + Impu...             1   \n",
       "4   0       Mode Baseline Binary Classification Pipeline             0   \n",
       "\n",
       "   mean_cv_score  standard_deviation_cv_score  validation_score  \\\n",
       "0       1.551920                     0.110441          1.551920   \n",
       "1       0.140912                     0.125842          0.140912   \n",
       "2       0.132316                     0.125820          0.132316   \n",
       "3       0.131241                     0.126248          0.131241   \n",
       "4       0.000000                     0.000000          0.000000   \n",
       "\n",
       "   percent_better_than_baseline  high_variance_cv  \\\n",
       "0                           inf             False   \n",
       "1                           inf             False   \n",
       "2                           inf             False   \n",
       "3                           inf             False   \n",
       "4                           0.0             False   \n",
       "\n",
       "                                          parameters  \n",
       "0  {'Label Encoder': {'positive_label': None}, 'I...  \n",
       "1  {'Label Encoder': {'positive_label': None}, 'I...  \n",
       "2  {'Label Encoder': {'positive_label': None}, 'I...  \n",
       "3  {'Label Encoder': {'positive_label': None}, 'I...  \n",
       "4  {'Label Encoder': {'positive_label': None}, 'B...  "
      ]
     },
     "execution_count": 7,
     "metadata": {},
     "output_type": "execute_result"
    }
   ],
   "source": [
    "automl.rankings"
   ]
  },
  {
   "cell_type": "markdown",
   "metadata": {},
   "source": [
    "To select the best pipeline we can call `automl.best_pipeline`."
   ]
  },
  {
   "cell_type": "code",
   "execution_count": 8,
   "metadata": {},
   "outputs": [],
   "source": [
    "best_pipeline = automl.best_pipeline"
   ]
  },
  {
   "cell_type": "markdown",
   "metadata": {},
   "source": [
    "### Describe pipeline\n",
    "\n",
    "You can get more details about any pipeline, including how it performed on other objective functions by calling `.describe_pipeline()` and specifying the `id` of the pipeline."
   ]
  },
  {
   "cell_type": "code",
   "execution_count": 9,
   "metadata": {},
   "outputs": [
    {
     "name": "stdout",
     "output_type": "stream",
     "text": [
      "\n",
      "****************************************************************\n"
     ]
    },
    {
     "name": "stderr",
     "output_type": "stream",
     "text": [
      "INFO:evalml.pipelines.pipeline_base.describe:\n",
      "****************************************************************\n"
     ]
    },
    {
     "name": "stdout",
     "output_type": "stream",
     "text": [
      "* CatBoost Classifier w/ Label Encoder + Imputer + Oversampler *\n"
     ]
    },
    {
     "name": "stderr",
     "output_type": "stream",
     "text": [
      "INFO:evalml.pipelines.pipeline_base.describe:* CatBoost Classifier w/ Label Encoder + Imputer + Oversampler *\n"
     ]
    },
    {
     "name": "stdout",
     "output_type": "stream",
     "text": [
      "****************************************************************\n"
     ]
    },
    {
     "name": "stderr",
     "output_type": "stream",
     "text": [
      "INFO:evalml.pipelines.pipeline_base.describe:****************************************************************\n"
     ]
    },
    {
     "name": "stdout",
     "output_type": "stream",
     "text": [
      "\n"
     ]
    },
    {
     "name": "stderr",
     "output_type": "stream",
     "text": [
      "INFO:evalml.pipelines.pipeline_base.describe:\n"
     ]
    },
    {
     "name": "stdout",
     "output_type": "stream",
     "text": [
      "Problem Type: binary\n"
     ]
    },
    {
     "name": "stderr",
     "output_type": "stream",
     "text": [
      "INFO:evalml.pipelines.pipeline_base.describe:Problem Type: binary\n"
     ]
    },
    {
     "name": "stdout",
     "output_type": "stream",
     "text": [
      "Model Family: CatBoost\n"
     ]
    },
    {
     "name": "stderr",
     "output_type": "stream",
     "text": [
      "INFO:evalml.pipelines.pipeline_base.describe:Model Family: CatBoost\n"
     ]
    },
    {
     "name": "stdout",
     "output_type": "stream",
     "text": [
      "\n"
     ]
    },
    {
     "name": "stderr",
     "output_type": "stream",
     "text": [
      "INFO:evalml.pipelines.pipeline_base.describe:\n"
     ]
    },
    {
     "name": "stdout",
     "output_type": "stream",
     "text": [
      "Pipeline Steps\n"
     ]
    },
    {
     "name": "stderr",
     "output_type": "stream",
     "text": [
      "INFO:evalml.pipelines.pipeline_base.describe:Pipeline Steps\n"
     ]
    },
    {
     "name": "stdout",
     "output_type": "stream",
     "text": [
      "==============\n"
     ]
    },
    {
     "name": "stderr",
     "output_type": "stream",
     "text": [
      "INFO:evalml.pipelines.pipeline_base.describe:==============\n"
     ]
    },
    {
     "name": "stdout",
     "output_type": "stream",
     "text": [
      "1. Label Encoder\n"
     ]
    },
    {
     "name": "stderr",
     "output_type": "stream",
     "text": [
      "INFO:evalml.pipelines.component_graph.describe:1. Label Encoder\n"
     ]
    },
    {
     "name": "stdout",
     "output_type": "stream",
     "text": [
      "\t * positive_label : None\n"
     ]
    },
    {
     "name": "stderr",
     "output_type": "stream",
     "text": [
      "INFO:evalml.pipelines.components.component_base.describe:\t * positive_label : None\n"
     ]
    },
    {
     "name": "stdout",
     "output_type": "stream",
     "text": [
      "2. Imputer\n"
     ]
    },
    {
     "name": "stderr",
     "output_type": "stream",
     "text": [
      "INFO:evalml.pipelines.component_graph.describe:2. Imputer\n"
     ]
    },
    {
     "name": "stdout",
     "output_type": "stream",
     "text": [
      "\t * categorical_impute_strategy : most_frequent\n"
     ]
    },
    {
     "name": "stderr",
     "output_type": "stream",
     "text": [
      "INFO:evalml.pipelines.components.component_base.describe:\t * categorical_impute_strategy : most_frequent\n"
     ]
    },
    {
     "name": "stdout",
     "output_type": "stream",
     "text": [
      "\t * numeric_impute_strategy : mean\n"
     ]
    },
    {
     "name": "stderr",
     "output_type": "stream",
     "text": [
      "INFO:evalml.pipelines.components.component_base.describe:\t * numeric_impute_strategy : mean\n"
     ]
    },
    {
     "name": "stdout",
     "output_type": "stream",
     "text": [
      "\t * categorical_fill_value : None\n"
     ]
    },
    {
     "name": "stderr",
     "output_type": "stream",
     "text": [
      "INFO:evalml.pipelines.components.component_base.describe:\t * categorical_fill_value : None\n"
     ]
    },
    {
     "name": "stdout",
     "output_type": "stream",
     "text": [
      "\t * numeric_fill_value : None\n"
     ]
    },
    {
     "name": "stderr",
     "output_type": "stream",
     "text": [
      "INFO:evalml.pipelines.components.component_base.describe:\t * numeric_fill_value : None\n"
     ]
    },
    {
     "name": "stdout",
     "output_type": "stream",
     "text": [
      "3. Oversampler\n"
     ]
    },
    {
     "name": "stderr",
     "output_type": "stream",
     "text": [
      "INFO:evalml.pipelines.component_graph.describe:3. Oversampler\n"
     ]
    },
    {
     "name": "stdout",
     "output_type": "stream",
     "text": [
      "\t * sampling_ratio : 0.25\n"
     ]
    },
    {
     "name": "stderr",
     "output_type": "stream",
     "text": [
      "INFO:evalml.pipelines.components.component_base.describe:\t * sampling_ratio : 0.25\n"
     ]
    },
    {
     "name": "stdout",
     "output_type": "stream",
     "text": [
      "\t * k_neighbors_default : 5\n"
     ]
    },
    {
     "name": "stderr",
     "output_type": "stream",
     "text": [
      "INFO:evalml.pipelines.components.component_base.describe:\t * k_neighbors_default : 5\n"
     ]
    },
    {
     "name": "stdout",
     "output_type": "stream",
     "text": [
      "\t * n_jobs : -1\n"
     ]
    },
    {
     "name": "stderr",
     "output_type": "stream",
     "text": [
      "INFO:evalml.pipelines.components.component_base.describe:\t * n_jobs : -1\n"
     ]
    },
    {
     "name": "stdout",
     "output_type": "stream",
     "text": [
      "\t * sampling_ratio_dict : None\n"
     ]
    },
    {
     "name": "stderr",
     "output_type": "stream",
     "text": [
      "INFO:evalml.pipelines.components.component_base.describe:\t * sampling_ratio_dict : None\n"
     ]
    },
    {
     "name": "stdout",
     "output_type": "stream",
     "text": [
      "\t * categorical_features : [0, 1, 3]\n"
     ]
    },
    {
     "name": "stderr",
     "output_type": "stream",
     "text": [
      "INFO:evalml.pipelines.components.component_base.describe:\t * categorical_features : [0, 1, 3]\n"
     ]
    },
    {
     "name": "stdout",
     "output_type": "stream",
     "text": [
      "\t * k_neighbors : 5\n"
     ]
    },
    {
     "name": "stderr",
     "output_type": "stream",
     "text": [
      "INFO:evalml.pipelines.components.component_base.describe:\t * k_neighbors : 5\n"
     ]
    },
    {
     "name": "stdout",
     "output_type": "stream",
     "text": [
      "4. CatBoost Classifier\n"
     ]
    },
    {
     "name": "stderr",
     "output_type": "stream",
     "text": [
      "INFO:evalml.pipelines.component_graph.describe:4. CatBoost Classifier\n"
     ]
    },
    {
     "name": "stdout",
     "output_type": "stream",
     "text": [
      "\t * n_estimators : 10\n"
     ]
    },
    {
     "name": "stderr",
     "output_type": "stream",
     "text": [
      "INFO:evalml.pipelines.components.component_base.describe:\t * n_estimators : 10\n"
     ]
    },
    {
     "name": "stdout",
     "output_type": "stream",
     "text": [
      "\t * eta : 0.03\n"
     ]
    },
    {
     "name": "stderr",
     "output_type": "stream",
     "text": [
      "INFO:evalml.pipelines.components.component_base.describe:\t * eta : 0.03\n"
     ]
    },
    {
     "name": "stdout",
     "output_type": "stream",
     "text": [
      "\t * max_depth : 6\n"
     ]
    },
    {
     "name": "stderr",
     "output_type": "stream",
     "text": [
      "INFO:evalml.pipelines.components.component_base.describe:\t * max_depth : 6\n"
     ]
    },
    {
     "name": "stdout",
     "output_type": "stream",
     "text": [
      "\t * bootstrap_type : None\n"
     ]
    },
    {
     "name": "stderr",
     "output_type": "stream",
     "text": [
      "INFO:evalml.pipelines.components.component_base.describe:\t * bootstrap_type : None\n"
     ]
    },
    {
     "name": "stdout",
     "output_type": "stream",
     "text": [
      "\t * silent : True\n"
     ]
    },
    {
     "name": "stderr",
     "output_type": "stream",
     "text": [
      "INFO:evalml.pipelines.components.component_base.describe:\t * silent : True\n"
     ]
    },
    {
     "name": "stdout",
     "output_type": "stream",
     "text": [
      "\t * allow_writing_files : False\n"
     ]
    },
    {
     "name": "stderr",
     "output_type": "stream",
     "text": [
      "INFO:evalml.pipelines.components.component_base.describe:\t * allow_writing_files : False\n"
     ]
    },
    {
     "name": "stdout",
     "output_type": "stream",
     "text": [
      "\t * n_jobs : -1\n"
     ]
    },
    {
     "name": "stderr",
     "output_type": "stream",
     "text": [
      "INFO:evalml.pipelines.components.component_base.describe:\t * n_jobs : -1\n"
     ]
    },
    {
     "name": "stdout",
     "output_type": "stream",
     "text": [
      "\n"
     ]
    },
    {
     "name": "stderr",
     "output_type": "stream",
     "text": [
      "INFO:evalml.automl.automl_search.describe_pipeline:\n"
     ]
    },
    {
     "name": "stdout",
     "output_type": "stream",
     "text": [
      "Training\n"
     ]
    },
    {
     "name": "stderr",
     "output_type": "stream",
     "text": [
      "INFO:evalml.automl.automl_search.describe_pipeline:Training\n"
     ]
    },
    {
     "name": "stdout",
     "output_type": "stream",
     "text": [
      "========\n"
     ]
    },
    {
     "name": "stderr",
     "output_type": "stream",
     "text": [
      "INFO:evalml.automl.automl_search.describe_pipeline:========\n"
     ]
    },
    {
     "name": "stdout",
     "output_type": "stream",
     "text": [
      "Training for binary problems.\n"
     ]
    },
    {
     "name": "stderr",
     "output_type": "stream",
     "text": [
      "INFO:evalml.automl.automl_search.describe_pipeline:Training for binary problems.\n"
     ]
    },
    {
     "name": "stdout",
     "output_type": "stream",
     "text": [
      "Objective to optimize binary classification pipeline thresholds for: <evalml.objectives.lead_scoring.LeadScoring object at 0x14900b970>\n"
     ]
    },
    {
     "name": "stderr",
     "output_type": "stream",
     "text": [
      "INFO:evalml.automl.automl_search.describe_pipeline:Objective to optimize binary classification pipeline thresholds for: <evalml.objectives.lead_scoring.LeadScoring object at 0x14900b970>\n"
     ]
    },
    {
     "name": "stdout",
     "output_type": "stream",
     "text": [
      "Total training time (including CV): 1.4 seconds\n"
     ]
    },
    {
     "name": "stderr",
     "output_type": "stream",
     "text": [
      "INFO:evalml.automl.automl_search.describe_pipeline:Total training time (including CV): 1.4 seconds\n"
     ]
    },
    {
     "name": "stdout",
     "output_type": "stream",
     "text": [
      "\n"
     ]
    },
    {
     "name": "stderr",
     "output_type": "stream",
     "text": [
      "INFO:evalml.automl.automl_search.describe_pipeline:\n"
     ]
    },
    {
     "name": "stdout",
     "output_type": "stream",
     "text": [
      "Cross Validation\n"
     ]
    },
    {
     "name": "stderr",
     "output_type": "stream",
     "text": [
      "INFO:evalml.automl.automl_search.describe_pipeline:Cross Validation\n"
     ]
    },
    {
     "name": "stdout",
     "output_type": "stream",
     "text": [
      "----------------\n"
     ]
    },
    {
     "name": "stderr",
     "output_type": "stream",
     "text": [
      "INFO:evalml.automl.automl_search.describe_pipeline:----------------\n"
     ]
    },
    {
     "name": "stdout",
     "output_type": "stream",
     "text": [
      "             Lead Scoring   AUC # Training # Validation\n",
      "0                   1.581 0.869      3,099        1,550\n",
      "1                   1.645 0.887      3,099        1,550\n",
      "2                   1.430 0.889      3,100        1,549\n",
      "mean                1.552 0.882          -            -\n",
      "std                 0.110 0.011          -            -\n",
      "coef of var         0.071 0.012          -            -\n"
     ]
    },
    {
     "name": "stderr",
     "output_type": "stream",
     "text": [
      "INFO:evalml.automl.automl_search.describe_pipeline:             Lead Scoring   AUC # Training # Validation\n",
      "0                   1.581 0.869      3,099        1,550\n",
      "1                   1.645 0.887      3,099        1,550\n",
      "2                   1.430 0.889      3,100        1,549\n",
      "mean                1.552 0.882          -            -\n",
      "std                 0.110 0.011          -            -\n",
      "coef of var         0.071 0.012          -            -\n"
     ]
    }
   ],
   "source": [
    "automl.describe_pipeline(automl.rankings.iloc[0][\"id\"])"
   ]
  },
  {
   "cell_type": "markdown",
   "metadata": {},
   "source": [
    "## Evaluate on hold out\n",
    "\n",
    "Finally, since the best pipeline was trained on all of the training data, we evaluate it on the holdout dataset."
   ]
  },
  {
   "cell_type": "code",
   "execution_count": 10,
   "metadata": {},
   "outputs": [
    {
     "data": {
      "text/plain": [
       "OrderedDict([('AUC', 0.8585599879117558), ('Lead Scoring', 1.590713671539123)])"
      ]
     },
     "execution_count": 10,
     "metadata": {},
     "output_type": "execute_result"
    }
   ],
   "source": [
    "best_pipeline_score = best_pipeline.score(X_holdout, y_holdout, objectives=[\"auc\", lead_scoring_objective])\n",
    "best_pipeline_score"
   ]
  },
  {
   "cell_type": "markdown",
   "metadata": {},
   "source": [
    "## Why optimize for a problem-specific objective?\n",
    "\n",
    "To demonstrate the importance of optimizing for the right objective, let's search for another pipeline using AUC, a common machine learning metric. After that, we will score the holdout data using the lead scoring objective to see how the best pipelines compare."
   ]
  },
  {
   "cell_type": "code",
   "execution_count": 11,
   "metadata": {},
   "outputs": [
    {
     "name": "stdout",
     "output_type": "stream",
     "text": [
      "Generating pipelines to search over...\n"
     ]
    },
    {
     "name": "stderr",
     "output_type": "stream",
     "text": [
      "INFO:evalml.automl.automl_algorithm.iterative_algorithm.verbose:Generating pipelines to search over...\n",
      "DEBUG:evalml.automl.automl_algorithm.iterative_algorithm.verbose:allowed_estimators set to ['Elastic Net Classifier', 'CatBoost Classifier', 'Random Forest Classifier', 'Logistic Regression Classifier']\n",
      "DEBUG:evalml.automl.automl_algorithm.iterative_algorithm.verbose:allowed_pipelines set to ['Elastic Net Classifier w/ Label Encoder + Imputer + One Hot Encoder + Oversampler + Standard Scaler', 'Logistic Regression Classifier w/ Label Encoder + Imputer + One Hot Encoder + Oversampler + Standard Scaler', 'CatBoost Classifier w/ Label Encoder + Imputer + Oversampler', 'Random Forest Classifier w/ Label Encoder + Imputer + One Hot Encoder + Oversampler']\n",
      "DEBUG:evalml.automl.automl_algorithm.iterative_algorithm.verbose:allowed_model_families set to ['catboost', 'random_forest', 'linear_model']\n"
     ]
    },
    {
     "name": "stdout",
     "output_type": "stream",
     "text": [
      "4 pipelines ready for search.\n"
     ]
    },
    {
     "name": "stderr",
     "output_type": "stream",
     "text": [
      "INFO:evalml.automl.automl_algorithm.iterative_algorithm.verbose:4 pipelines ready for search.\n"
     ]
    },
    {
     "name": "stdout",
     "output_type": "stream",
     "text": [
      "\n",
      "*****************************\n"
     ]
    },
    {
     "name": "stderr",
     "output_type": "stream",
     "text": [
      "INFO:evalml.automl.automl_search.verbose:\n",
      "*****************************\n"
     ]
    },
    {
     "name": "stdout",
     "output_type": "stream",
     "text": [
      "* Beginning pipeline search *\n"
     ]
    },
    {
     "name": "stderr",
     "output_type": "stream",
     "text": [
      "INFO:evalml.automl.automl_search.verbose:* Beginning pipeline search *\n"
     ]
    },
    {
     "name": "stdout",
     "output_type": "stream",
     "text": [
      "*****************************\n"
     ]
    },
    {
     "name": "stderr",
     "output_type": "stream",
     "text": [
      "INFO:evalml.automl.automl_search.verbose:*****************************\n"
     ]
    },
    {
     "name": "stdout",
     "output_type": "stream",
     "text": [
      "\n"
     ]
    },
    {
     "name": "stderr",
     "output_type": "stream",
     "text": [
      "INFO:evalml.automl.automl_search.verbose:\n"
     ]
    },
    {
     "name": "stdout",
     "output_type": "stream",
     "text": [
      "Optimizing for AUC. \n"
     ]
    },
    {
     "name": "stderr",
     "output_type": "stream",
     "text": [
      "INFO:evalml.automl.automl_search.verbose:Optimizing for AUC. \n"
     ]
    },
    {
     "name": "stdout",
     "output_type": "stream",
     "text": [
      "Greater score is better.\n",
      "\n"
     ]
    },
    {
     "name": "stderr",
     "output_type": "stream",
     "text": [
      "INFO:evalml.automl.automl_search.verbose:Greater score is better.\n",
      "\n"
     ]
    },
    {
     "name": "stdout",
     "output_type": "stream",
     "text": [
      "Using SequentialEngine to train and score pipelines.\n"
     ]
    },
    {
     "name": "stderr",
     "output_type": "stream",
     "text": [
      "INFO:evalml.automl.automl_search.verbose:Using SequentialEngine to train and score pipelines.\n"
     ]
    },
    {
     "name": "stdout",
     "output_type": "stream",
     "text": [
      "Searching up to 1 batches for a total of 5 pipelines. \n"
     ]
    },
    {
     "name": "stderr",
     "output_type": "stream",
     "text": [
      "INFO:evalml.automl.automl_search.verbose:Searching up to 1 batches for a total of 5 pipelines. \n"
     ]
    },
    {
     "name": "stdout",
     "output_type": "stream",
     "text": [
      "Allowed model families: linear_model, linear_model, catboost, random_forest\n",
      "\n"
     ]
    },
    {
     "name": "stderr",
     "output_type": "stream",
     "text": [
      "INFO:evalml.automl.automl_search.verbose:Allowed model families: linear_model, linear_model, catboost, random_forest\n",
      "\n"
     ]
    },
    {
     "data": {
      "application/vnd.jupyter.widget-view+json": {
       "model_id": "743bc57604174fcca93b81a8a7aafc7c",
       "version_major": 2,
       "version_minor": 0
      },
      "text/plain": [
       "FigureWidget({\n",
       "    'data': [{'mode': 'lines+markers',\n",
       "              'name': 'Best Score',\n",
       "              'type'…"
      ]
     },
     "metadata": {},
     "output_type": "display_data"
    },
    {
     "name": "stdout",
     "output_type": "stream",
     "text": [
      "Evaluating Baseline Pipeline: Mode Baseline Binary Classification Pipeline\n"
     ]
    },
    {
     "name": "stderr",
     "output_type": "stream",
     "text": [
      "INFO:evalml.automl.automl_search.verbose:Evaluating Baseline Pipeline: Mode Baseline Binary Classification Pipeline\n"
     ]
    },
    {
     "name": "stdout",
     "output_type": "stream",
     "text": [
      "Mode Baseline Binary Classification Pipeline:\n"
     ]
    },
    {
     "name": "stderr",
     "output_type": "stream",
     "text": [
      "INFO:evalml.automl.automl_search.verbose:Mode Baseline Binary Classification Pipeline:\n"
     ]
    },
    {
     "name": "stdout",
     "output_type": "stream",
     "text": [
      "\tStarting cross validation\n"
     ]
    },
    {
     "name": "stderr",
     "output_type": "stream",
     "text": [
      "INFO:evalml.automl.automl_search.verbose:\tStarting cross validation\n",
      "DEBUG:evalml.automl.automl_search.verbose:\t\tTraining and scoring on fold 0\n",
      "DEBUG:evalml.automl.automl_search.verbose:\t\t\tFold 0: starting training\n",
      "DEBUG:evalml.automl.automl_search.verbose:\t\t\tFold 0: finished training\n",
      "DEBUG:evalml.automl.automl_search.verbose:\t\t\tFold 0: Optimal threshold found (0.135)\n",
      "DEBUG:evalml.automl.automl_search.verbose:\t\t\tFold 0: Scoring trained pipeline\n",
      "DEBUG:evalml.automl.automl_search.verbose:\t\t\tFold 0: AUC score: 0.500\n",
      "DEBUG:evalml.automl.automl_search.verbose:\t\tTraining and scoring on fold 1\n",
      "DEBUG:evalml.automl.automl_search.verbose:\t\t\tFold 1: starting training\n",
      "DEBUG:evalml.automl.automl_search.verbose:\t\t\tFold 1: finished training\n",
      "DEBUG:evalml.automl.automl_search.verbose:\t\t\tFold 1: Optimal threshold found (0.135)\n",
      "DEBUG:evalml.automl.automl_search.verbose:\t\t\tFold 1: Scoring trained pipeline\n",
      "DEBUG:evalml.automl.automl_search.verbose:\t\t\tFold 1: AUC score: 0.500\n",
      "DEBUG:evalml.automl.automl_search.verbose:\t\tTraining and scoring on fold 2\n",
      "DEBUG:evalml.automl.automl_search.verbose:\t\t\tFold 2: starting training\n",
      "DEBUG:evalml.automl.automl_search.verbose:\t\t\tFold 2: finished training\n",
      "DEBUG:evalml.automl.automl_search.verbose:\t\t\tFold 2: Optimal threshold found (0.135)\n",
      "DEBUG:evalml.automl.automl_search.verbose:\t\t\tFold 2: Scoring trained pipeline\n",
      "DEBUG:evalml.automl.automl_search.verbose:\t\t\tFold 2: AUC score: 0.500\n"
     ]
    },
    {
     "name": "stdout",
     "output_type": "stream",
     "text": [
      "\tFinished cross validation - mean AUC: 0.500\n"
     ]
    },
    {
     "name": "stderr",
     "output_type": "stream",
     "text": [
      "INFO:evalml.automl.automl_search.verbose:\tFinished cross validation - mean AUC: 0.500\n"
     ]
    },
    {
     "name": "stdout",
     "output_type": "stream",
     "text": [
      "\n",
      "*****************************\n"
     ]
    },
    {
     "name": "stderr",
     "output_type": "stream",
     "text": [
      "INFO:evalml.automl.automl_search.verbose:\n",
      "*****************************\n"
     ]
    },
    {
     "name": "stdout",
     "output_type": "stream",
     "text": [
      "* Evaluating Batch Number 1 *\n"
     ]
    },
    {
     "name": "stderr",
     "output_type": "stream",
     "text": [
      "INFO:evalml.automl.automl_search.verbose:* Evaluating Batch Number 1 *\n"
     ]
    },
    {
     "name": "stdout",
     "output_type": "stream",
     "text": [
      "*****************************\n"
     ]
    },
    {
     "name": "stderr",
     "output_type": "stream",
     "text": [
      "INFO:evalml.automl.automl_search.verbose:*****************************\n"
     ]
    },
    {
     "name": "stdout",
     "output_type": "stream",
     "text": [
      "\n"
     ]
    },
    {
     "name": "stderr",
     "output_type": "stream",
     "text": [
      "INFO:evalml.automl.automl_search.verbose:\n"
     ]
    },
    {
     "name": "stdout",
     "output_type": "stream",
     "text": [
      "Elastic Net Classifier w/ Label Encoder + Imputer + One Hot Encoder + Oversampler + Standard Scaler:\n"
     ]
    },
    {
     "name": "stderr",
     "output_type": "stream",
     "text": [
      "INFO:evalml.automl.automl_search.verbose:Elastic Net Classifier w/ Label Encoder + Imputer + One Hot Encoder + Oversampler + Standard Scaler:\n"
     ]
    },
    {
     "name": "stdout",
     "output_type": "stream",
     "text": [
      "\tStarting cross validation\n"
     ]
    },
    {
     "name": "stderr",
     "output_type": "stream",
     "text": [
      "INFO:evalml.automl.automl_search.verbose:\tStarting cross validation\n",
      "DEBUG:evalml.automl.automl_search.verbose:\t\tTraining and scoring on fold 0\n",
      "DEBUG:evalml.automl.automl_search.verbose:\t\t\tFold 0: starting training\n",
      "DEBUG:evalml.automl.automl_search.verbose:\t\t\tFold 0: finished training\n",
      "DEBUG:evalml.automl.automl_search.verbose:\t\t\tFold 0: Optimal threshold found (0.281)\n",
      "DEBUG:evalml.automl.automl_search.verbose:\t\t\tFold 0: Scoring trained pipeline\n",
      "DEBUG:evalml.automl.automl_search.verbose:\t\t\tFold 0: AUC score: 0.691\n",
      "DEBUG:evalml.automl.automl_search.verbose:\t\tTraining and scoring on fold 1\n",
      "DEBUG:evalml.automl.automl_search.verbose:\t\t\tFold 1: starting training\n",
      "DEBUG:evalml.automl.automl_search.verbose:\t\t\tFold 1: finished training\n",
      "DEBUG:evalml.automl.automl_search.verbose:\t\t\tFold 1: Optimal threshold found (0.136)\n",
      "DEBUG:evalml.automl.automl_search.verbose:\t\t\tFold 1: Scoring trained pipeline\n",
      "DEBUG:evalml.automl.automl_search.verbose:\t\t\tFold 1: AUC score: 0.621\n",
      "DEBUG:evalml.automl.automl_search.verbose:\t\tTraining and scoring on fold 2\n",
      "DEBUG:evalml.automl.automl_search.verbose:\t\t\tFold 2: starting training\n",
      "DEBUG:evalml.automl.automl_search.verbose:\t\t\tFold 2: finished training\n",
      "DEBUG:evalml.automl.automl_search.verbose:\t\t\tFold 2: Optimal threshold found (0.383)\n",
      "DEBUG:evalml.automl.automl_search.verbose:\t\t\tFold 2: Scoring trained pipeline\n",
      "DEBUG:evalml.automl.automl_search.verbose:\t\t\tFold 2: AUC score: 0.646\n"
     ]
    },
    {
     "name": "stdout",
     "output_type": "stream",
     "text": [
      "\tFinished cross validation - mean AUC: 0.653\n"
     ]
    },
    {
     "name": "stderr",
     "output_type": "stream",
     "text": [
      "INFO:evalml.automl.automl_search.verbose:\tFinished cross validation - mean AUC: 0.653\n"
     ]
    },
    {
     "name": "stdout",
     "output_type": "stream",
     "text": [
      "Logistic Regression Classifier w/ Label Encoder + Imputer + One Hot Encoder + Oversampler + Standard Scaler:\n"
     ]
    },
    {
     "name": "stderr",
     "output_type": "stream",
     "text": [
      "INFO:evalml.automl.automl_search.verbose:Logistic Regression Classifier w/ Label Encoder + Imputer + One Hot Encoder + Oversampler + Standard Scaler:\n"
     ]
    },
    {
     "name": "stdout",
     "output_type": "stream",
     "text": [
      "\tStarting cross validation\n"
     ]
    },
    {
     "name": "stderr",
     "output_type": "stream",
     "text": [
      "INFO:evalml.automl.automl_search.verbose:\tStarting cross validation\n",
      "DEBUG:evalml.automl.automl_search.verbose:\t\tTraining and scoring on fold 0\n",
      "DEBUG:evalml.automl.automl_search.verbose:\t\t\tFold 0: starting training\n",
      "DEBUG:evalml.automl.automl_search.verbose:\t\t\tFold 0: finished training\n",
      "DEBUG:evalml.automl.automl_search.verbose:\t\t\tFold 0: Optimal threshold found (0.282)\n",
      "DEBUG:evalml.automl.automl_search.verbose:\t\t\tFold 0: Scoring trained pipeline\n",
      "DEBUG:evalml.automl.automl_search.verbose:\t\t\tFold 0: AUC score: 0.692\n",
      "DEBUG:evalml.automl.automl_search.verbose:\t\tTraining and scoring on fold 1\n",
      "DEBUG:evalml.automl.automl_search.verbose:\t\t\tFold 1: starting training\n",
      "DEBUG:evalml.automl.automl_search.verbose:\t\t\tFold 1: finished training\n",
      "DEBUG:evalml.automl.automl_search.verbose:\t\t\tFold 1: Optimal threshold found (0.136)\n",
      "DEBUG:evalml.automl.automl_search.verbose:\t\t\tFold 1: Scoring trained pipeline\n",
      "DEBUG:evalml.automl.automl_search.verbose:\t\t\tFold 1: AUC score: 0.621\n",
      "DEBUG:evalml.automl.automl_search.verbose:\t\tTraining and scoring on fold 2\n",
      "DEBUG:evalml.automl.automl_search.verbose:\t\t\tFold 2: starting training\n",
      "DEBUG:evalml.automl.automl_search.verbose:\t\t\tFold 2: finished training\n",
      "DEBUG:evalml.automl.automl_search.verbose:\t\t\tFold 2: Optimal threshold found (0.383)\n",
      "DEBUG:evalml.automl.automl_search.verbose:\t\t\tFold 2: Scoring trained pipeline\n",
      "DEBUG:evalml.automl.automl_search.verbose:\t\t\tFold 2: AUC score: 0.646\n"
     ]
    },
    {
     "name": "stdout",
     "output_type": "stream",
     "text": [
      "\tFinished cross validation - mean AUC: 0.653\n"
     ]
    },
    {
     "name": "stderr",
     "output_type": "stream",
     "text": [
      "INFO:evalml.automl.automl_search.verbose:\tFinished cross validation - mean AUC: 0.653\n"
     ]
    },
    {
     "name": "stdout",
     "output_type": "stream",
     "text": [
      "CatBoost Classifier w/ Label Encoder + Imputer + Oversampler:\n"
     ]
    },
    {
     "name": "stderr",
     "output_type": "stream",
     "text": [
      "INFO:evalml.automl.automl_search.verbose:CatBoost Classifier w/ Label Encoder + Imputer + Oversampler:\n"
     ]
    },
    {
     "name": "stdout",
     "output_type": "stream",
     "text": [
      "\tStarting cross validation\n"
     ]
    },
    {
     "name": "stderr",
     "output_type": "stream",
     "text": [
      "INFO:evalml.automl.automl_search.verbose:\tStarting cross validation\n",
      "DEBUG:evalml.automl.automl_search.verbose:\t\tTraining and scoring on fold 0\n",
      "DEBUG:evalml.automl.automl_search.verbose:\t\t\tFold 0: starting training\n",
      "DEBUG:evalml.automl.automl_search.verbose:\t\t\tFold 0: finished training\n",
      "DEBUG:evalml.automl.automl_search.verbose:\t\t\tFold 0: Optimal threshold found (0.427)\n",
      "DEBUG:evalml.automl.automl_search.verbose:\t\t\tFold 0: Scoring trained pipeline\n",
      "DEBUG:evalml.automl.automl_search.verbose:\t\t\tFold 0: AUC score: 0.869\n",
      "DEBUG:evalml.automl.automl_search.verbose:\t\tTraining and scoring on fold 1\n",
      "DEBUG:evalml.automl.automl_search.verbose:\t\t\tFold 1: starting training\n",
      "DEBUG:evalml.automl.automl_search.verbose:\t\t\tFold 1: finished training\n",
      "DEBUG:evalml.automl.automl_search.verbose:\t\t\tFold 1: Optimal threshold found (0.467)\n",
      "DEBUG:evalml.automl.automl_search.verbose:\t\t\tFold 1: Scoring trained pipeline\n",
      "DEBUG:evalml.automl.automl_search.verbose:\t\t\tFold 1: AUC score: 0.887\n",
      "DEBUG:evalml.automl.automl_search.verbose:\t\tTraining and scoring on fold 2\n",
      "DEBUG:evalml.automl.automl_search.verbose:\t\t\tFold 2: starting training\n",
      "DEBUG:evalml.automl.automl_search.verbose:\t\t\tFold 2: finished training\n",
      "DEBUG:evalml.automl.automl_search.verbose:\t\t\tFold 2: Optimal threshold found (0.507)\n",
      "DEBUG:evalml.automl.automl_search.verbose:\t\t\tFold 2: Scoring trained pipeline\n",
      "DEBUG:evalml.automl.automl_search.verbose:\t\t\tFold 2: AUC score: 0.889\n"
     ]
    },
    {
     "name": "stdout",
     "output_type": "stream",
     "text": [
      "\tFinished cross validation - mean AUC: 0.882\n"
     ]
    },
    {
     "name": "stderr",
     "output_type": "stream",
     "text": [
      "INFO:evalml.automl.automl_search.verbose:\tFinished cross validation - mean AUC: 0.882\n"
     ]
    },
    {
     "name": "stdout",
     "output_type": "stream",
     "text": [
      "Random Forest Classifier w/ Label Encoder + Imputer + One Hot Encoder + Oversampler:\n"
     ]
    },
    {
     "name": "stderr",
     "output_type": "stream",
     "text": [
      "INFO:evalml.automl.automl_search.verbose:Random Forest Classifier w/ Label Encoder + Imputer + One Hot Encoder + Oversampler:\n"
     ]
    },
    {
     "name": "stdout",
     "output_type": "stream",
     "text": [
      "\tStarting cross validation\n"
     ]
    },
    {
     "name": "stderr",
     "output_type": "stream",
     "text": [
      "INFO:evalml.automl.automl_search.verbose:\tStarting cross validation\n",
      "DEBUG:evalml.automl.automl_search.verbose:\t\tTraining and scoring on fold 0\n",
      "DEBUG:evalml.automl.automl_search.verbose:\t\t\tFold 0: starting training\n",
      "DEBUG:evalml.automl.automl_search.verbose:\t\t\tFold 0: finished training\n",
      "DEBUG:evalml.automl.automl_search.verbose:\t\t\tFold 0: Optimal threshold found (0.495)\n",
      "DEBUG:evalml.automl.automl_search.verbose:\t\t\tFold 0: Scoring trained pipeline\n",
      "DEBUG:evalml.automl.automl_search.verbose:\t\t\tFold 0: AUC score: 0.718\n",
      "DEBUG:evalml.automl.automl_search.verbose:\t\tTraining and scoring on fold 1\n",
      "DEBUG:evalml.automl.automl_search.verbose:\t\t\tFold 1: starting training\n",
      "DEBUG:evalml.automl.automl_search.verbose:\t\t\tFold 1: finished training\n",
      "DEBUG:evalml.automl.automl_search.verbose:\t\t\tFold 1: Optimal threshold found (0.202)\n",
      "DEBUG:evalml.automl.automl_search.verbose:\t\t\tFold 1: Scoring trained pipeline\n",
      "DEBUG:evalml.automl.automl_search.verbose:\t\t\tFold 1: AUC score: 0.602\n",
      "DEBUG:evalml.automl.automl_search.verbose:\t\tTraining and scoring on fold 2\n",
      "DEBUG:evalml.automl.automl_search.verbose:\t\t\tFold 2: starting training\n",
      "DEBUG:evalml.automl.automl_search.verbose:\t\t\tFold 2: finished training\n",
      "DEBUG:evalml.automl.automl_search.verbose:\t\t\tFold 2: Optimal threshold found (0.256)\n",
      "DEBUG:evalml.automl.automl_search.verbose:\t\t\tFold 2: Scoring trained pipeline\n",
      "DEBUG:evalml.automl.automl_search.verbose:\t\t\tFold 2: AUC score: 0.635\n"
     ]
    },
    {
     "name": "stdout",
     "output_type": "stream",
     "text": [
      "\tFinished cross validation - mean AUC: 0.652\n"
     ]
    },
    {
     "name": "stderr",
     "output_type": "stream",
     "text": [
      "INFO:evalml.automl.automl_search.verbose:\tFinished cross validation - mean AUC: 0.652\n"
     ]
    },
    {
     "name": "stdout",
     "output_type": "stream",
     "text": [
      "\n",
      "Search finished after 00:12            \n"
     ]
    },
    {
     "name": "stderr",
     "output_type": "stream",
     "text": [
      "INFO:evalml.automl.automl_search.verbose:\n",
      "Search finished after 00:12            \n"
     ]
    },
    {
     "name": "stdout",
     "output_type": "stream",
     "text": [
      "Best pipeline: CatBoost Classifier w/ Label Encoder + Imputer + Oversampler\n"
     ]
    },
    {
     "name": "stderr",
     "output_type": "stream",
     "text": [
      "INFO:evalml.automl.automl_search.verbose:Best pipeline: CatBoost Classifier w/ Label Encoder + Imputer + Oversampler\n"
     ]
    },
    {
     "name": "stdout",
     "output_type": "stream",
     "text": [
      "Best pipeline AUC: 0.881709\n"
     ]
    },
    {
     "name": "stderr",
     "output_type": "stream",
     "text": [
      "INFO:evalml.automl.automl_search.verbose:Best pipeline AUC: 0.881709\n"
     ]
    }
   ],
   "source": [
    "automl_auc = evalml.AutoMLSearch(X_train=X_train, y_train=y_train,\n",
    "                                 problem_type='binary',\n",
    "                                 objective='auc',\n",
    "                                 additional_objectives=[lead_scoring_objective],\n",
    "                                 allowed_model_families=[\"catboost\", \"random_forest\", \"linear_model\"],\n",
    "                                 max_batches=1,\n",
    "                                 verbose=True)\n",
    "\n",
    "automl_auc.search()"
   ]
  },
  {
   "cell_type": "code",
   "execution_count": 12,
   "metadata": {},
   "outputs": [
    {
     "data": {
      "text/html": [
       "<div>\n",
       "<style scoped>\n",
       "    .dataframe tbody tr th:only-of-type {\n",
       "        vertical-align: middle;\n",
       "    }\n",
       "\n",
       "    .dataframe tbody tr th {\n",
       "        vertical-align: top;\n",
       "    }\n",
       "\n",
       "    .dataframe thead th {\n",
       "        text-align: right;\n",
       "    }\n",
       "</style>\n",
       "<table border=\"1\" class=\"dataframe\">\n",
       "  <thead>\n",
       "    <tr style=\"text-align: right;\">\n",
       "      <th></th>\n",
       "      <th>id</th>\n",
       "      <th>pipeline_name</th>\n",
       "      <th>search_order</th>\n",
       "      <th>mean_cv_score</th>\n",
       "      <th>standard_deviation_cv_score</th>\n",
       "      <th>validation_score</th>\n",
       "      <th>percent_better_than_baseline</th>\n",
       "      <th>high_variance_cv</th>\n",
       "      <th>parameters</th>\n",
       "    </tr>\n",
       "  </thead>\n",
       "  <tbody>\n",
       "    <tr>\n",
       "      <th>0</th>\n",
       "      <td>3</td>\n",
       "      <td>CatBoost Classifier w/ Label Encoder + Imputer...</td>\n",
       "      <td>3</td>\n",
       "      <td>0.881709</td>\n",
       "      <td>0.010861</td>\n",
       "      <td>0.881709</td>\n",
       "      <td>38.170947</td>\n",
       "      <td>False</td>\n",
       "      <td>{'Label Encoder': {'positive_label': None}, 'I...</td>\n",
       "    </tr>\n",
       "    <tr>\n",
       "      <th>1</th>\n",
       "      <td>2</td>\n",
       "      <td>Logistic Regression Classifier w/ Label Encode...</td>\n",
       "      <td>2</td>\n",
       "      <td>0.652938</td>\n",
       "      <td>0.035827</td>\n",
       "      <td>0.652938</td>\n",
       "      <td>15.293849</td>\n",
       "      <td>False</td>\n",
       "      <td>{'Label Encoder': {'positive_label': None}, 'I...</td>\n",
       "    </tr>\n",
       "    <tr>\n",
       "      <th>2</th>\n",
       "      <td>1</td>\n",
       "      <td>Elastic Net Classifier w/ Label Encoder + Impu...</td>\n",
       "      <td>1</td>\n",
       "      <td>0.652736</td>\n",
       "      <td>0.035854</td>\n",
       "      <td>0.652736</td>\n",
       "      <td>15.273584</td>\n",
       "      <td>False</td>\n",
       "      <td>{'Label Encoder': {'positive_label': None}, 'I...</td>\n",
       "    </tr>\n",
       "    <tr>\n",
       "      <th>3</th>\n",
       "      <td>4</td>\n",
       "      <td>Random Forest Classifier w/ Label Encoder + Im...</td>\n",
       "      <td>4</td>\n",
       "      <td>0.651591</td>\n",
       "      <td>0.059622</td>\n",
       "      <td>0.651591</td>\n",
       "      <td>15.159098</td>\n",
       "      <td>False</td>\n",
       "      <td>{'Label Encoder': {'positive_label': None}, 'I...</td>\n",
       "    </tr>\n",
       "    <tr>\n",
       "      <th>4</th>\n",
       "      <td>0</td>\n",
       "      <td>Mode Baseline Binary Classification Pipeline</td>\n",
       "      <td>0</td>\n",
       "      <td>0.500000</td>\n",
       "      <td>0.000000</td>\n",
       "      <td>0.500000</td>\n",
       "      <td>0.000000</td>\n",
       "      <td>False</td>\n",
       "      <td>{'Label Encoder': {'positive_label': None}, 'B...</td>\n",
       "    </tr>\n",
       "  </tbody>\n",
       "</table>\n",
       "</div>"
      ],
      "text/plain": [
       "   id                                      pipeline_name  search_order  \\\n",
       "0   3  CatBoost Classifier w/ Label Encoder + Imputer...             3   \n",
       "1   2  Logistic Regression Classifier w/ Label Encode...             2   \n",
       "2   1  Elastic Net Classifier w/ Label Encoder + Impu...             1   \n",
       "3   4  Random Forest Classifier w/ Label Encoder + Im...             4   \n",
       "4   0       Mode Baseline Binary Classification Pipeline             0   \n",
       "\n",
       "   mean_cv_score  standard_deviation_cv_score  validation_score  \\\n",
       "0       0.881709                     0.010861          0.881709   \n",
       "1       0.652938                     0.035827          0.652938   \n",
       "2       0.652736                     0.035854          0.652736   \n",
       "3       0.651591                     0.059622          0.651591   \n",
       "4       0.500000                     0.000000          0.500000   \n",
       "\n",
       "   percent_better_than_baseline  high_variance_cv  \\\n",
       "0                     38.170947             False   \n",
       "1                     15.293849             False   \n",
       "2                     15.273584             False   \n",
       "3                     15.159098             False   \n",
       "4                      0.000000             False   \n",
       "\n",
       "                                          parameters  \n",
       "0  {'Label Encoder': {'positive_label': None}, 'I...  \n",
       "1  {'Label Encoder': {'positive_label': None}, 'I...  \n",
       "2  {'Label Encoder': {'positive_label': None}, 'I...  \n",
       "3  {'Label Encoder': {'positive_label': None}, 'I...  \n",
       "4  {'Label Encoder': {'positive_label': None}, 'B...  "
      ]
     },
     "execution_count": 12,
     "metadata": {},
     "output_type": "execute_result"
    }
   ],
   "source": [
    "automl_auc.rankings"
   ]
  },
  {
   "cell_type": "markdown",
   "metadata": {},
   "source": [
    "Like before, we can look at the rankings and pick the best pipeline."
   ]
  },
  {
   "cell_type": "code",
   "execution_count": 13,
   "metadata": {},
   "outputs": [],
   "source": [
    "best_pipeline_auc = automl_auc.best_pipeline"
   ]
  },
  {
   "cell_type": "code",
   "execution_count": 14,
   "metadata": {},
   "outputs": [
    {
     "data": {
      "text/plain": [
       "OrderedDict([('AUC', 0.8585599879117558), ('Lead Scoring', 1.590713671539123)])"
      ]
     },
     "execution_count": 14,
     "metadata": {},
     "output_type": "execute_result"
    }
   ],
   "source": [
    "# get the auc and lead scoring score on holdout data\n",
    "best_pipeline_auc_score = best_pipeline_auc.score(X_holdout, y_holdout,  objectives=[\"auc\", lead_scoring_objective])\n",
    "best_pipeline_auc_score"
   ]
  },
  {
   "cell_type": "code",
   "execution_count": 15,
   "metadata": {},
   "outputs": [],
   "source": [
    "assert best_pipeline_score['Lead Scoring'] >= best_pipeline_auc_score['Lead Scoring']\n",
    "assert best_pipeline_auc_score['Lead Scoring'] >= 0"
   ]
  },
  {
   "cell_type": "markdown",
   "metadata": {},
   "source": [
    "When we optimize for AUC, we can see that the AUC score from this pipeline is similar to the AUC score from the pipeline optimized for lead scoring. However, the revenue per lead is much smaller per lead when optimized for AUC and was much larger when optimized for lead scoring. As a result, we would have a huge gain on the amount of revenue if we optimized for lead scoring.\n",
    "\n",
    "This happens because optimizing for AUC does not take into account the user-specified `true_positive` (dollar amount to be gained with a successful lead) and `false_positive` (dollar amount to be lost with an unsuccessful lead) values. Thus, the best pipelines may produce the highest AUC but may not actually generate the most revenue through lead scoring.\n",
    "\n",
    "This example highlights how performance in the real world can diverge greatly from machine learning metrics."
   ]
  }
 ],
 "metadata": {
  "kernelspec": {
   "display_name": "virtualenv-evalml",
   "language": "python",
   "name": "virtualenv-evalml"
  },
  "language_info": {
   "codemirror_mode": {
    "name": "ipython",
    "version": 3
   },
   "file_extension": ".py",
   "mimetype": "text/x-python",
   "name": "python",
   "nbconvert_exporter": "python",
   "pygments_lexer": "ipython3",
   "version": "3.8.0"
  }
 },
 "nbformat": 4,
 "nbformat_minor": 4
}
